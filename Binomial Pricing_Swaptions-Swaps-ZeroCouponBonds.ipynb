{
 "cells": [
  {
   "cell_type": "code",
   "execution_count": 1,
   "metadata": {},
   "outputs": [],
   "source": [
    "# Binomial Pricing Model\n",
    "# 1. Construction of Short Rate Lattice\n",
    "# 2. Derivation of Elemantary Pricing Lattice from Short Rate Lattice\n",
    "# 3. Pricing the Zero-coupon bond prices from Elemntary Pricing Lattice\n",
    "# 4. Deriving spot rates from Zero-coupon bond prices\n",
    "# 4. Construction of Swap Lattice from Short Rate Lattice\n",
    "# 5. Pricing Swaptions"
   ]
  },
  {
   "cell_type": "code",
   "execution_count": 2,
   "metadata": {},
   "outputs": [],
   "source": [
    "import numpy as np"
   ]
  },
  {
   "cell_type": "code",
   "execution_count": 3,
   "metadata": {},
   "outputs": [],
   "source": [
    "n = 13 # number of periods\n",
    "r_00 = 0.06\n",
    "u = 1.25  \n",
    "d = 0.9\n",
    "q = 0.5\n",
    "short_rate = np.zeros([n+1,n+1])"
   ]
  },
  {
   "cell_type": "code",
   "execution_count": 4,
   "metadata": {},
   "outputs": [],
   "source": [
    "#Short-Rate Lattice\n",
    "for i in range(n+1):\n",
    "    for j in range(i+1):\n",
    "        short_rate[j,i] = r_00 * u**(i-j) * d**(j)"
   ]
  },
  {
   "cell_type": "code",
   "execution_count": 5,
   "metadata": {},
   "outputs": [],
   "source": [
    "#Elemantary Pricing Lattice\n",
    "elem_price = np.zeros([n+2,n+2])\n",
    "elem_price[0][0] = 1.0\n",
    "for i in range(1,n+2):\n",
    "    for j in range(i+1):\n",
    "        if j == 0:\n",
    "            elem_price[j,i] = elem_price[j,i-1]*q / (1+short_rate[j,i-1])\n",
    "        elif j == i:\n",
    "            elem_price[j,i] = elem_price[j-1,i-1]*(1-q) / (1+short_rate[j-1,i-1])\n",
    "        else:\n",
    "            elem_price[j,i] = (elem_price[j,i-1]*q / (1+short_rate[j,i-1])) + (elem_price[j-1,i-1]*(1-q)/ (1+short_rate[j-1,i-1]))"
   ]
  },
  {
   "cell_type": "code",
   "execution_count": 6,
   "metadata": {},
   "outputs": [],
   "source": [
    "#Zero-Coupon bond prices can be derived from Elemantary Pricing Lattice\n",
    "zcb = np.zeros([n+2])\n",
    "for i in range(1,n+2):\n",
    "    zcb[i] = sum(elem_price[:,i])"
   ]
  },
  {
   "cell_type": "code",
   "execution_count": 7,
   "metadata": {},
   "outputs": [],
   "source": [
    "#Spot_rates can be calculated from the derived Zero-coupon bond prices\n",
    "spot_rate = np.zeros([n+2])\n",
    "for i in range(1,n+2):\n",
    "    spot_rate[i] = ((1.0/zcb[i])**(1/i))-1"
   ]
  },
  {
   "cell_type": "code",
   "execution_count": 8,
   "metadata": {},
   "outputs": [
    {
     "name": "stdout",
     "output_type": "stream",
     "text": [
      "Enter the face value of the Zero-coupon Bond: 110\n",
      "Face Value of the bond = 110.0\n",
      "Price of Zero-coupon bond of duration 1 period(s) = 103.77\n",
      "Price of Zero-coupon bond of duration 2 period(s) = 97.5\n",
      "Price of Zero-coupon bond of duration 3 period(s) = 91.2\n",
      "Price of Zero-coupon bond of duration 4 period(s) = 84.94\n",
      "Price of Zero-coupon bond of duration 5 period(s) = 78.75\n",
      "Price of Zero-coupon bond of duration 6 period(s) = 72.67\n",
      "Price of Zero-coupon bond of duration 7 period(s) = 66.75\n",
      "Price of Zero-coupon bond of duration 8 period(s) = 61.02\n",
      "Price of Zero-coupon bond of duration 9 period(s) = 55.54\n",
      "Price of Zero-coupon bond of duration 10 period(s) = 50.32\n",
      "Price of Zero-coupon bond of duration 11 period(s) = 45.39\n",
      "Price of Zero-coupon bond of duration 12 period(s) = 40.78\n",
      "Price of Zero-coupon bond of duration 13 period(s) = 36.49\n",
      "Price of Zero-coupon bond of duration 14 period(s) = 32.53\n"
     ]
    }
   ],
   "source": [
    "#Zero-coupon bond prices\n",
    "FaceValue = float(input(\"Enter the face value of the Zero-coupon Bond: \"))\n",
    "print(\"Face Value of the bond =\",round(FaceValue,2))\n",
    "for i in range(1,n+2):\n",
    "    print(\"Price of Zero-coupon bond of duration\",i,\"period(s) =\",round(zcb[i]*FaceValue,2))"
   ]
  },
  {
   "cell_type": "code",
   "execution_count": 9,
   "metadata": {},
   "outputs": [
    {
     "name": "stdout",
     "output_type": "stream",
     "text": [
      "Spot Rate in period 1 = 6.0 %\n",
      "Spot Rate in period 2 = 6.22 %\n",
      "Spot Rate in period 3 = 6.45 %\n",
      "Spot Rate in period 4 = 6.68 %\n",
      "Spot Rate in period 5 = 6.91 %\n",
      "Spot Rate in period 6 = 7.15 %\n",
      "Spot Rate in period 7 = 7.4 %\n",
      "Spot Rate in period 8 = 7.64 %\n",
      "Spot Rate in period 9 = 7.89 %\n",
      "Spot Rate in period 10 = 8.14 %\n",
      "Spot Rate in period 11 = 8.38 %\n",
      "Spot Rate in period 12 = 8.62 %\n",
      "Spot Rate in period 13 = 8.86 %\n",
      "Spot Rate in period 14 = 9.09 %\n"
     ]
    }
   ],
   "source": [
    "#Spot Rates\n",
    "for i in range(1,n+2):\n",
    "    print(\"Spot Rate in period\",i,\"=\",round(spot_rate[i]*100,2),\"%\")"
   ]
  },
  {
   "cell_type": "code",
   "execution_count": 10,
   "metadata": {},
   "outputs": [
    {
     "name": "stdout",
     "output_type": "stream",
     "text": [
      "Enter Swap Fixed Rate (in %): 5\n",
      "Enter Swap Expiration period: 7\n"
     ]
    }
   ],
   "source": [
    "#Swap Lattice\n",
    "swap_rate = float(input(\"Enter Swap Fixed Rate (in %): \"))\n",
    "swap_rate = swap_rate/100\n",
    "swap_t = int(input(\"Enter Swap Expiration period: \"))\n",
    "swap = np.zeros([swap_t,swap_t])\n",
    "swap[:,swap_t-1] = (short_rate[0:swap_t,swap_t-1] - swap_rate)/(1+short_rate[0:swap_t,swap_t-1])\n",
    "\n",
    "for i in range(swap_t-2,-1,-1):\n",
    "    for j in range(i+1):\n",
    "        swap[j,i] = ((short_rate[j,i] - swap_rate) + swap[j,i+1]*q + (1-q)*swap[j+1,i+1]) / (1+short_rate[j,i])"
   ]
  },
  {
   "cell_type": "code",
   "execution_count": 11,
   "metadata": {},
   "outputs": [
    {
     "name": "stdout",
     "output_type": "stream",
     "text": [
      "Enter Swaption Expiration period: 4\n",
      "Enter principal amount: 1000000\n",
      "Swaption Price: 67316.1\n"
     ]
    }
   ],
   "source": [
    "#Swaption Pricing\n",
    "swaption_strike = 0.00     #generally 0\n",
    "swaption_t = int(input(\"Enter Swaption Expiration period: \"))\n",
    "p = float(input(\"Enter principal amount: \"))\n",
    "swaption = np.zeros([swaption_t+1,swaption_t+1])\n",
    "swaption[:,swaption_t] = np.maximum(np.zeros([swaption_t+1]),swap[0:swaption_t+1,swaption_t])\n",
    "for i in range(swaption_t-1,-1,-1):\n",
    "    for j in range(i+1):\n",
    "        swaption[j,i] = (swaption[j,i+1]*q + (1-q)*swaption[j+1,i+1]) / (1+short_rate[j,i])\n",
    "print(\"Swaption Price:\",round(p*swaption[0,0],2))"
   ]
  },
  {
   "cell_type": "code",
   "execution_count": null,
   "metadata": {},
   "outputs": [],
   "source": []
  }
 ],
 "metadata": {
  "kernelspec": {
   "display_name": "Python 3",
   "language": "python",
   "name": "python3"
  },
  "language_info": {
   "codemirror_mode": {
    "name": "ipython",
    "version": 3
   },
   "file_extension": ".py",
   "mimetype": "text/x-python",
   "name": "python",
   "nbconvert_exporter": "python",
   "pygments_lexer": "ipython3",
   "version": "3.8.3"
  }
 },
 "nbformat": 4,
 "nbformat_minor": 4
}

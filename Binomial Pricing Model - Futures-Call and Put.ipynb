{
 "cells": [
  {
   "cell_type": "code",
   "execution_count": 1,
   "metadata": {},
   "outputs": [],
   "source": [
    "#Binomial pricing model - European Call and Put option on Stock Futures"
   ]
  },
  {
   "cell_type": "code",
   "execution_count": 2,
   "metadata": {},
   "outputs": [],
   "source": [
    "import numpy as np\n",
    "import math"
   ]
  },
  {
   "cell_type": "code",
   "execution_count": 3,
   "metadata": {},
   "outputs": [],
   "source": [
    "n = 10       # no. of periods in T years\n",
    "T = 1.0      # in years\n",
    "r = 0.02\n",
    "dt = T/n\n",
    "sigma = 0.20 #volatility\n",
    "u = math.exp(sigma*math.sqrt(dt))\n",
    "d = 1.0/u\n",
    "S0 = 100     #Stock price\n",
    "qu = (math.exp(r*dt) - d) / (u-d)\n",
    "K = 110      #Strike Price"
   ]
  },
  {
   "cell_type": "code",
   "execution_count": 4,
   "metadata": {},
   "outputs": [],
   "source": [
    "#Stock Lattice\n",
    "stock = np.zeros([n+1,n+1])\n",
    "for i in range(n+1):\n",
    "    for j in range(i+1):\n",
    "        stock[j,i] = S0 * u**(i-j) * d**j"
   ]
  },
  {
   "cell_type": "code",
   "execution_count": 5,
   "metadata": {},
   "outputs": [
    {
     "name": "stdout",
     "output_type": "stream",
     "text": [
      "Futures price: 102.02\n"
     ]
    }
   ],
   "source": [
    "#Futures Lattice\n",
    "futures = np.zeros([n+1,n+1])\n",
    "futures[:,n] = stock[:,n]\n",
    "for i in range(n-1,-1,-1):\n",
    "    for j in range(i+1):\n",
    "        futures[j,i] = qu*futures[j,i+1] + (1-qu)*futures[j+1,i+1]\n",
    "F0 = futures[0,0]\n",
    "print(\"Futures price:\",round(F0,2))"
   ]
  },
  {
   "cell_type": "code",
   "execution_count": 6,
   "metadata": {},
   "outputs": [],
   "source": [
    "#Call payoff = max(Futures Price - Strike Price, 0)\n",
    "call_futures = np.zeros([n+1,n+1])\n",
    "call_futures[:,n] = np.maximum(np.zeros(n+1),futures[:,n] - K)\n",
    "#Put payoff = max(Strike Price - Futures Price, 0)\n",
    "put_futures = np.zeros([n+1,n+1])\n",
    "put_futures[:,n] = np.maximum(np.zeros(n+1),K - futures[:,n])"
   ]
  },
  {
   "cell_type": "code",
   "execution_count": 7,
   "metadata": {},
   "outputs": [],
   "source": [
    "for i in range(n-1,-1,-1):\n",
    "    for j in range(i+1):\n",
    "        call_futures[j,i] = math.exp(-r*dt) * (qu*call_futures[j,i+1] + (1-qu)*call_futures[j+1,i+1])\n",
    "        put_futures[j,i] = math.exp(-r*dt) * (qu*put_futures[j,i+1] + (1-qu)*put_futures[j+1,i+1])"
   ]
  },
  {
   "cell_type": "code",
   "execution_count": 8,
   "metadata": {},
   "outputs": [
    {
     "name": "stdout",
     "output_type": "stream",
     "text": [
      "Price of call option on stock futures: 5.026\n",
      "Price of put option on stock futures: 12.847\n"
     ]
    }
   ],
   "source": [
    "#Call and put prices on Stock Futures\n",
    "print(\"Price of call option on stock futures:\",round(call_futures[0,0],3))\n",
    "print(\"Price of put option on stock futures:\",round(put_futures[0,0],3))"
   ]
  },
  {
   "cell_type": "code",
   "execution_count": null,
   "metadata": {},
   "outputs": [],
   "source": []
  }
 ],
 "metadata": {
  "kernelspec": {
   "display_name": "Python 3",
   "language": "python",
   "name": "python3"
  },
  "language_info": {
   "codemirror_mode": {
    "name": "ipython",
    "version": 3
   },
   "file_extension": ".py",
   "mimetype": "text/x-python",
   "name": "python",
   "nbconvert_exporter": "python",
   "pygments_lexer": "ipython3",
   "version": "3.8.3"
  }
 },
 "nbformat": 4,
 "nbformat_minor": 4
}
